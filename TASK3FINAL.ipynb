{
  "nbformat": 4,
  "nbformat_minor": 0,
  "metadata": {
    "colab": {
      "provenance": [],
      "authorship_tag": "ABX9TyN1IWJmWefM1rx+s1oBjw1s",
      "include_colab_link": true
    },
    "kernelspec": {
      "name": "python3",
      "display_name": "Python 3"
    },
    "language_info": {
      "name": "python"
    }
  },
  "cells": [
    {
      "cell_type": "markdown",
      "metadata": {
        "id": "view-in-github",
        "colab_type": "text"
      },
      "source": [
        "<a href=\"https://colab.research.google.com/github/AvdhutBashte1605/PRODIGY_GA_03/blob/main/TASK3FINAL.ipynb\" target=\"_parent\"><img src=\"https://colab.research.google.com/assets/colab-badge.svg\" alt=\"Open In Colab\"/></a>"
      ]
    },
    {
      "cell_type": "code",
      "execution_count": null,
      "metadata": {
        "colab": {
          "base_uri": "https://localhost:8080/"
        },
        "id": "jK729NwSYnK2",
        "outputId": "5fb64ddf-0fbd-46fa-b751-7d7d3d64c430"
      },
      "outputs": [
        {
          "output_type": "stream",
          "name": "stdout",
          "text": [
            "created the heaven and the earth. And the earth was without form, and void; and darkness was upon the face of the deep. And the earth was without form, and void; and darkness was upon the face of the deep. And the earth was without form, and void; and darkness\n"
          ]
        }
      ],
      "source": [
        "import random\n",
        "from collections import defaultdict\n",
        "\n",
        "class MarkovChain:\n",
        "    def __init__(self):\n",
        "        self.model = defaultdict(list)\n",
        "\n",
        "    def train(self, text):\n",
        "        # Split the text into words\n",
        "        words = text.split()\n",
        "        # Build the Markov chain model with bigrams\n",
        "        for i in range(len(words) - 2):\n",
        "            self.model[(words[i], words[i + 1])].append(words[i + 2])\n",
        "\n",
        "    def generate_text(self, length=50, seed=None):\n",
        "        if seed is None:\n",
        "            seed = random.choice(list(self.model.keys()))\n",
        "        current_bigram = seed\n",
        "        result = list(current_bigram)\n",
        "\n",
        "        for _ in range(length - 2):\n",
        "            next_word = random.choice(self.model[current_bigram])\n",
        "            result.append(next_word)\n",
        "            current_bigram = (current_bigram[1], next_word)\n",
        "\n",
        "        return ' '.join(result)\n",
        "\n",
        "# Example usage\n",
        "text = \"\"\"\n",
        "    In the beginning God created the heaven and the earth. And the earth was without form, and void;\n",
        "    and darkness was upon the face of the deep. And the Spirit of God moved upon the face of the waters.\n",
        "    And God said, Let there be light: and there was light.\n",
        "\"\"\"\n",
        "\n",
        "markov_chain = MarkovChain()\n",
        "markov_chain.train(text)\n",
        "generated_text = markov_chain.generate_text(length=50)\n",
        "print(generated_text)\n"
      ]
    },
    {
      "cell_type": "code",
      "source": [],
      "metadata": {
        "id": "Ze6KCsVEYr5I"
      },
      "execution_count": null,
      "outputs": []
    }
  ]
}